{
 "cells": [
  {
   "cell_type": "code",
   "execution_count": 2,
   "metadata": {},
   "outputs": [],
   "source": [
    "from  calculate_simmilarity_resnet18 import ResnetSimmilarity\n",
    "\n",
    "from progressbar import ProgressBar\n",
    "\n",
    "from nearpy import Engine\n",
    "from nearpy.hashes import RandomBinaryProjections\n",
    "from nearpy.distances import CosineDistance\n",
    "\n",
    "import sys\n",
    "\n",
    "\n",
    "import pickle\n",
    "import os\n",
    "from nearpy.storage import MemoryStorage"
   ]
  },
  {
   "cell_type": "markdown",
   "metadata": {},
   "source": [
    "### Form ResnetSimmilarity we can get embedding of a vector \n",
    "\n"
   ]
  },
  {
   "cell_type": "code",
   "execution_count": 3,
   "metadata": {},
   "outputs": [],
   "source": [
    "res = ResnetSimmilarity()\n",
    "pbar = ProgressBar()"
   ]
  },
  {
   "cell_type": "code",
   "execution_count": 4,
   "metadata": {},
   "outputs": [],
   "source": [
    "pic_one = Image.open(\"./data/flower_data/train/1/image_06734.jpg\")\n",
    "pic_one1 = Image.open(\"./data/flower_data/train/1/image_06734.jpg\")\n",
    "pic_two = Image.open(\"./data/flower_data/train/21/image_06774.jpg\")\n",
    "pic_three = Image.open(\"./data/download.jpeg\")"
   ]
  },
  {
   "cell_type": "code",
   "execution_count": 5,
   "metadata": {},
   "outputs": [],
   "source": [
    "# Dimension of our vector space\n",
    "dimension = 2048\n",
    "\n",
    "# Create a random binary hash with 10 bits\n",
    "rbp = RandomBinaryProjections('rbp', 10)\n",
    "\n",
    "\n",
    "msote = MemoryStorage()\n",
    "\n",
    "engine = Engine(dimension, lshashes=[rbp],storage=msote,distance=CosineDistance())"
   ]
  },
  {
   "cell_type": "markdown",
   "metadata": {},
   "source": [
    "#### Adding the Images to the Hash Table"
   ]
  },
  {
   "cell_type": "code",
   "execution_count": 6,
   "metadata": {},
   "outputs": [
    {
     "name": "stdout",
     "output_type": "stream",
     "text": [
      "CPU times: user 4min 15s, sys: 3min 6s, total: 7min 21s\n",
      "Wall time: 2min 12s\n"
     ]
    }
   ],
   "source": [
    "%%time\n",
    "\n",
    "rootdir = 'data/flower_data/train/'\n",
    "\n",
    "\n",
    "for subdir, dirs, files in os.walk(rootdir):\n",
    "    for file in files:\n",
    "        if '.jpg' in file:\n",
    "        \n",
    "            img_path = os.path.join(subdir, file)\n",
    "            img = Image.open(img_path)\n",
    "            \n",
    "            img_emb = res.getMapping(img)\n",
    "            img_emb = img_emb.view(-1,2048)\n",
    "            img_emb = img_emb.numpy()\n",
    "            \n",
    "            \n",
    "            engine.store_vector(img_emb[0],file)"
   ]
  },
  {
   "cell_type": "markdown",
   "metadata": {},
   "source": [
    "#### Save Image Hashed Table to File"
   ]
  },
  {
   "cell_type": "code",
   "execution_count": 7,
   "metadata": {},
   "outputs": [
    {
     "name": "stdout",
     "output_type": "stream",
     "text": [
      "CPU times: user 7.6 s, sys: 208 ms, total: 7.81 s\n",
      "Wall time: 7.81 s\n"
     ]
    }
   ],
   "source": [
    "%%time\n",
    "filehandler = open(\"hashed_object.pkl\", 'w')\n",
    "pickle.dump(engine, filehandler)"
   ]
  },
  {
   "cell_type": "code",
   "execution_count": null,
   "metadata": {},
   "outputs": [],
   "source": []
  },
  {
   "cell_type": "code",
   "execution_count": null,
   "metadata": {},
   "outputs": [],
   "source": []
  },
  {
   "cell_type": "markdown",
   "metadata": {},
   "source": [
    "### Restore Hased Table "
   ]
  },
  {
   "cell_type": "code",
   "execution_count": 8,
   "metadata": {},
   "outputs": [
    {
     "name": "stdout",
     "output_type": "stream",
     "text": [
      "CPU times: user 1.94 s, sys: 212 ms, total: 2.15 s\n",
      "Wall time: 3 s\n"
     ]
    }
   ],
   "source": [
    "%%time\n",
    "filehandler = open(\"hashed_object.pkl\", 'r')\n",
    "en_loaded = pickle.load(filehandler)"
   ]
  },
  {
   "cell_type": "code",
   "execution_count": 9,
   "metadata": {},
   "outputs": [
    {
     "name": "stdout",
     "output_type": "stream",
     "text": [
      "(1, 2048)\n"
     ]
    }
   ],
   "source": [
    "\n",
    "# image to test query\n",
    "pic_one1_emb = res.getMapping(pic_one1)\n",
    "pic_one1_emb = pic_one1_emb.view(-1,2048)\n",
    "pic_one1_emb = pic_one1_emb.numpy()\n",
    "print(pic_one1_emb.shape)\n",
    "\n",
    "\n",
    "query = pic_one1_emb[0]"
   ]
  },
  {
   "cell_type": "markdown",
   "metadata": {},
   "source": [
    "#### Query on one image and get simmilarity result"
   ]
  },
  {
   "cell_type": "code",
   "execution_count": 10,
   "metadata": {},
   "outputs": [
    {
     "name": "stdout",
     "output_type": "stream",
     "text": [
      "('image_07800.jpg', 0.0036786446068788337)\n",
      "('image_02532.jpg', 0.003726762434540287)\n",
      "('image_07612.jpg', 0.0037849506654052956)\n",
      "('image_07481.jpg', 0.0037967772461857674)\n",
      "('image_01767.jpg', 0.003798351456365201)\n",
      "('image_01630.jpg', 0.0038020903802128414)\n",
      "('image_07126.jpg', 0.003818604502385803)\n",
      "('image_07479.jpg', 0.0038275743743392265)\n",
      "('image_00458.jpg', 0.0038363795060631922)\n",
      "('image_05497.jpg', 0.003839477365755517)\n",
      "CPU times: user 96 ms, sys: 116 ms, total: 212 ms\n",
      "Wall time: 70 ms\n"
     ]
    }
   ],
   "source": [
    "%%time\n",
    "\n",
    "N = en_loaded.neighbours(query)\n",
    "for i in range(len(N)):\n",
    "    print(N[i][1],N[i][2])"
   ]
  },
  {
   "cell_type": "code",
   "execution_count": 11,
   "metadata": {},
   "outputs": [],
   "source": []
  },
  {
   "cell_type": "code",
   "execution_count": null,
   "metadata": {},
   "outputs": [],
   "source": []
  }
 ],
 "metadata": {
  "kernelspec": {
   "display_name": "Python [conda env:pytorch0.4]",
   "language": "python",
   "name": "conda-env-pytorch0.4-py"
  },
  "language_info": {
   "codemirror_mode": {
    "name": "ipython",
    "version": 2
   },
   "file_extension": ".py",
   "mimetype": "text/x-python",
   "name": "python",
   "nbconvert_exporter": "python",
   "pygments_lexer": "ipython2",
   "version": "2.7.15"
  }
 },
 "nbformat": 4,
 "nbformat_minor": 2
}
