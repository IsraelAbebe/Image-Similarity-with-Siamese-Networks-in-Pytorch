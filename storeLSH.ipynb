{
 "cells": [
  {
   "cell_type": "code",
   "execution_count": 1,
   "metadata": {},
   "outputs": [],
   "source": [
    "from  calculate_simmilarity_resnet import ResnetSimmilarity\n",
    "\n",
    "from PIL import Image\n",
    "from progressbar import ProgressBar\n",
    "\n",
    "from nearpy import Engine\n",
    "from nearpy.hashes import RandomBinaryProjections\n",
    "from nearpy.distances import CosineDistance\n",
    "\n",
    "import sys\n",
    "\n",
    "\n",
    "import pickle\n",
    "import os\n",
    "from nearpy.storage import MemoryStorage"
   ]
  },
  {
   "cell_type": "markdown",
   "metadata": {},
   "source": [
    "### Form ResnetSimmilarity we can get embedding of a vector \n",
    "\n"
   ]
  },
  {
   "cell_type": "code",
   "execution_count": 2,
   "metadata": {},
   "outputs": [],
   "source": [
    "res = ResnetSimmilarity()\n",
    "pbar = ProgressBar()"
   ]
  },
  {
   "cell_type": "code",
   "execution_count": 3,
   "metadata": {},
   "outputs": [],
   "source": [
    "pic_one = Image.open(\"./data/flower_data/train/1/image_06734.jpg\")\n",
    "pic_one1 = Image.open(\"./data/flower_data/train/1/image_06734.jpg\")\n",
    "pic_two = Image.open(\"./data/flower_data/train/21/image_06774.jpg\")\n",
    "pic_three = Image.open(\"./data/download.jpeg\")"
   ]
  },
  {
   "cell_type": "code",
   "execution_count": null,
   "metadata": {},
   "outputs": [],
   "source": []
  },
  {
   "cell_type": "code",
   "execution_count": 4,
   "metadata": {},
   "outputs": [],
   "source": [
    "# Dimension of our vector space\n",
    "dimension = 2048\n",
    "\n",
    "# Create a random binary hash with 10 bits\n",
    "rbp = RandomBinaryProjections('rbp', 10)\n",
    "\n",
    "\n",
    "msote = MemoryStorage()\n",
    "\n",
    "engine = Engine(dimension, lshashes=[rbp],storage=msote,distance=CosineDistance())"
   ]
  },
  {
   "cell_type": "markdown",
   "metadata": {},
   "source": [
    "#### Adding the Images to the Hash Table"
   ]
  },
  {
   "cell_type": "code",
   "execution_count": null,
   "metadata": {},
   "outputs": [],
   "source": [
    "%%time\n",
    "\n",
    "rootdir = 'data/flower_data/train/'\n",
    "\n",
    "\n",
    "for subdir, dirs, files in os.walk(rootdir):\n",
    "    for file in files:\n",
    "        if '.jpg' in file:\n",
    "            img_path = os.path.join(subdir, file)\n",
    "            img = Image.open(img_path)\n",
    "            \n",
    "            img_emb = res.getMapping(img)\n",
    "            img_emb = img_emb.view(-1,2048)\n",
    "            img_emb = img_emb.numpy()\n",
    "            \n",
    "            \n",
    "            engine.store_vector(img_emb[0],img_path)"
   ]
  },
  {
   "cell_type": "markdown",
   "metadata": {},
   "source": [
    "#### Save Image Hashed Table to File"
   ]
  },
  {
   "cell_type": "code",
   "execution_count": 7,
   "metadata": {},
   "outputs": [
    {
     "name": "stdout",
     "output_type": "stream",
     "text": [
      "CPU times: user 24 ms, sys: 52 ms, total: 76 ms\n",
      "Wall time: 76.9 ms\n"
     ]
    }
   ],
   "source": [
    "%%time\n",
    "filehandler = open(\"hashed_object.pkl\", 'w')\n",
    "pickle.dump(engine, filehandler)"
   ]
  },
  {
   "cell_type": "code",
   "execution_count": null,
   "metadata": {},
   "outputs": [],
   "source": []
  },
  {
   "cell_type": "code",
   "execution_count": null,
   "metadata": {},
   "outputs": [],
   "source": []
  },
  {
   "cell_type": "markdown",
   "metadata": {},
   "source": [
    "### Restore Hased Table "
   ]
  },
  {
   "cell_type": "code",
   "execution_count": null,
   "metadata": {},
   "outputs": [],
   "source": [
    "%%time\n",
    "filehandler = open(\"hashed_object.pkl\", 'r')\n",
    "en_loaded = pickle.load(filehandler)"
   ]
  },
  {
   "cell_type": "code",
   "execution_count": 5,
   "metadata": {},
   "outputs": [
    {
     "ename": "NameError",
     "evalue": "name 'pic_one1' is not defined",
     "output_type": "error",
     "traceback": [
      "\u001b[0;31m---------------------------------------------------------------------------\u001b[0m",
      "\u001b[0;31mNameError\u001b[0m                                 Traceback (most recent call last)",
      "\u001b[0;32m<ipython-input-5-1dca9624f549>\u001b[0m in \u001b[0;36m<module>\u001b[0;34m()\u001b[0m\n\u001b[1;32m      1\u001b[0m \u001b[0;34m\u001b[0m\u001b[0m\n\u001b[1;32m      2\u001b[0m \u001b[0;31m# image to test query\u001b[0m\u001b[0;34m\u001b[0m\u001b[0;34m\u001b[0m\u001b[0m\n\u001b[0;32m----> 3\u001b[0;31m \u001b[0mpic_one1_emb\u001b[0m \u001b[0;34m=\u001b[0m \u001b[0mres\u001b[0m\u001b[0;34m.\u001b[0m\u001b[0mgetMapping\u001b[0m\u001b[0;34m(\u001b[0m\u001b[0mpic_one1\u001b[0m\u001b[0;34m)\u001b[0m\u001b[0;34m\u001b[0m\u001b[0m\n\u001b[0m\u001b[1;32m      4\u001b[0m \u001b[0mpic_one1_emb\u001b[0m \u001b[0;34m=\u001b[0m \u001b[0mpic_one1_emb\u001b[0m\u001b[0;34m.\u001b[0m\u001b[0mview\u001b[0m\u001b[0;34m(\u001b[0m\u001b[0;34m-\u001b[0m\u001b[0;36m1\u001b[0m\u001b[0;34m,\u001b[0m\u001b[0;36m2048\u001b[0m\u001b[0;34m)\u001b[0m\u001b[0;34m\u001b[0m\u001b[0m\n\u001b[1;32m      5\u001b[0m \u001b[0mpic_one1_emb\u001b[0m \u001b[0;34m=\u001b[0m \u001b[0mpic_one1_emb\u001b[0m\u001b[0;34m.\u001b[0m\u001b[0mnumpy\u001b[0m\u001b[0;34m(\u001b[0m\u001b[0;34m)\u001b[0m\u001b[0;34m\u001b[0m\u001b[0m\n",
      "\u001b[0;31mNameError\u001b[0m: name 'pic_one1' is not defined"
     ]
    }
   ],
   "source": [
    "\n",
    "# image to test query\n",
    "pic_one1_emb = res.getMapping(pic_one1)\n",
    "pic_one1_emb = pic_one1_emb.view(-1,2048)\n",
    "pic_one1_emb = pic_one1_emb.numpy()\n",
    "print(pic_one1_emb.shape)\n",
    "\n",
    "\n",
    "query = pic_one1_emb[0]"
   ]
  },
  {
   "cell_type": "markdown",
   "metadata": {},
   "source": [
    "#### Query on one image and get simmilarity result"
   ]
  },
  {
   "cell_type": "code",
   "execution_count": 9,
   "metadata": {},
   "outputs": [
    {
     "name": "stdout",
     "output_type": "stream",
     "text": [
      "('data/flower_data/train/1/image_06734.jpg', -8.881784197001252e-16)\n",
      "('data/flower_data/train/1/image_06766.jpg', 0.003630611497433489)\n",
      "('data/flower_data/train/52/image_04195.jpg', 0.0036499635462940994)\n",
      "('data/flower_data/train/19/image_06191.jpg', 0.0036603622440525285)\n",
      "('data/flower_data/train/75/image_02080.jpg', 0.0036628782824642547)\n",
      "('data/flower_data/train/91/image_08056.jpg', 0.0036829865679275375)\n",
      "('data/flower_data/train/64/image_06112.jpg', 0.003683268981946153)\n",
      "('data/flower_data/train/52/image_04199.jpg', 0.0036881561760176984)\n",
      "('data/flower_data/train/46/image_00991.jpg', 0.003704948385331197)\n",
      "('data/flower_data/train/64/image_06145.jpg', 0.0037076488020391096)\n",
      "CPU times: user 48 ms, sys: 52 ms, total: 100 ms\n",
      "Wall time: 33.1 ms\n"
     ]
    }
   ],
   "source": [
    "%%time\n",
    "\n",
    "N = en_loaded.neighbours(query)\n",
    "for i in range(len(N)):\n",
    "    print(N[i][1],N[i][2])"
   ]
  },
  {
   "cell_type": "code",
   "execution_count": 11,
   "metadata": {},
   "outputs": [],
   "source": []
  },
  {
   "cell_type": "code",
   "execution_count": null,
   "metadata": {},
   "outputs": [],
   "source": []
  }
 ],
 "metadata": {
  "kernelspec": {
   "display_name": "Python [conda env:pytorch0.4]",
   "language": "python",
   "name": "conda-env-pytorch0.4-py"
  },
  "language_info": {
   "codemirror_mode": {
    "name": "ipython",
    "version": 2
   },
   "file_extension": ".py",
   "mimetype": "text/x-python",
   "name": "python",
   "nbconvert_exporter": "python",
   "pygments_lexer": "ipython2",
   "version": "2.7.15"
  }
 },
 "nbformat": 4,
 "nbformat_minor": 2
}
