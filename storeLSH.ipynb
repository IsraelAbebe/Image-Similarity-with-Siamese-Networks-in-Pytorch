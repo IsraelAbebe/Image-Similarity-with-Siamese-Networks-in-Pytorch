{
 "cells": [
  {
   "cell_type": "code",
   "execution_count": 1,
   "metadata": {},
   "outputs": [],
   "source": [
    "import torchvision\n",
    "import torchvision.datasets as dset\n",
    "import torchvision.transforms as transforms\n",
    "from torch.utils.data import DataLoader,Dataset\n",
    "import torchvision.utils\n",
    "import numpy as np\n",
    "import random\n",
    "from PIL import Image\n",
    "import torch\n",
    "from torch.autograd import Variable\n",
    "import PIL.ImageOps    \n",
    "import torch.nn as nn\n",
    "from torch import optim\n",
    "import torch.nn.functional as F\n",
    "from  calculate_simmilarity_resnet18 import ResnetSimmilarity\n",
    "\n",
    "from progressbar import ProgressBar\n",
    "\n",
    "from nearpy import Engine\n",
    "from nearpy.hashes import RandomBinaryProjections\n",
    "from redis import Redis\n",
    "from nearpy.storage import RedisStorage\n",
    "from nearpy.distances import CosineDistance\n",
    "\n",
    "import sys\n",
    "\n",
    "\n",
    "import pickle\n",
    "import os\n",
    "from nearpy.storage import MemoryStorage"
   ]
  },
  {
   "cell_type": "code",
   "execution_count": 2,
   "metadata": {},
   "outputs": [],
   "source": [
    "res = ResnetSimmilarity()\n",
    "pbar = ProgressBar()"
   ]
  },
  {
   "cell_type": "code",
   "execution_count": 3,
   "metadata": {},
   "outputs": [],
   "source": [
    "pic_one = Image.open(\"./data/flower_data/train/1/image_06734.jpg\")\n",
    "pic_one1 = Image.open(\"./data/flower_data/train/1/image_06734.jpg\")\n",
    "pic_two = Image.open(\"./data/flower_data/train/21/image_06774.jpg\")\n",
    "pic_three = Image.open(\"./data/download.jpeg\")"
   ]
  },
  {
   "cell_type": "code",
   "execution_count": 7,
   "metadata": {},
   "outputs": [
    {
     "name": "stdout",
     "output_type": "stream",
     "text": [
      "(1, 2048)\n"
     ]
    }
   ],
   "source": [
    "# pic_one_emb = res.getMapping(pic_one)\n",
    "# pic_one_emb = pic_one_emb.view(-1,2048)\n",
    "# pic_one_emb = pic_one_emb.numpy()\n",
    "# print(pic_one_emb.shape)\n",
    "\n",
    "# pic_two_emb = res.getMapping(pic_two)\n",
    "# pic_two_emb = pic_two_emb.view(-1,2048)\n",
    "# pic_two_emb = pic_two_emb.numpy()\n",
    "# print(pic_two_emb.shape)\n",
    "\n",
    "# pic_three_emb = res.getMapping(pic_three)\n",
    "# pic_three_emb = pic_three_emb.view(-1,2048)\n",
    "# pic_three_emb = pic_three_emb.numpy()\n",
    "# print(pic_three_emb.shape)\n",
    "\n",
    "pic_one1_emb = res.getMapping(pic_one1)\n",
    "pic_one1_emb = pic_one1_emb.view(-1,2048)\n",
    "pic_one1_emb = pic_one1_emb.numpy()\n",
    "print(pic_one1_emb.shape)\n",
    "\n",
    "\n",
    "# input_ma = np.concatenate([pic_one_emb,pic_two_emb,pic_three_emb])\n",
    "# print(input_ma.shape)\n",
    "\n",
    "# Dimension of our vector space\n",
    "dimension = 2048\n",
    "\n",
    "# Create a random binary hash with 10 bits\n",
    "rbp = RandomBinaryProjections('rbp', 10)\n",
    "\n",
    "\n",
    "msote = MemoryStorage()\n",
    "\n",
    "engine = Engine(dimension, lshashes=[rbp],storage=msote,distance=CosineDistance())"
   ]
  },
  {
   "cell_type": "code",
   "execution_count": 12,
   "metadata": {},
   "outputs": [
    {
     "name": "stdout",
     "output_type": "stream",
     "text": [
      "6552\n"
     ]
    }
   ],
   "source": [
    "\n",
    "rootdir = 'data/flower_data/train/'\n",
    "\n",
    "count  = 0 \n",
    "for subdir, dirs, files in os.walk(rootdir):\n",
    "    for file in files:\n",
    "        if '.jpg' in file:\n",
    "            count += 1\n",
    "#             img_path = os.path.join(subdir, file)\n",
    "#             img = Image.open(img_path)\n",
    "            \n",
    "#             img_emb = res.getMapping(img)\n",
    "#             img_emb = img_emb.view(-1,2048)\n",
    "#             img_emb = img_emb.numpy()\n",
    "            \n",
    "            \n",
    "#             engine.store_vector(img_emb[0],file)"
   ]
  },
  {
   "cell_type": "code",
   "execution_count": 5,
   "metadata": {},
   "outputs": [],
   "source": [
    "\n",
    "\n"
   ]
  },
  {
   "cell_type": "code",
   "execution_count": 6,
   "metadata": {},
   "outputs": [],
   "source": [
    "filehandler = open(\"hashed_object.pkl\", 'w')\n",
    "pickle.dump(engine, filehandler)"
   ]
  },
  {
   "cell_type": "code",
   "execution_count": 8,
   "metadata": {},
   "outputs": [],
   "source": [
    "filehandler = open(\"hashed_object.pkl\", 'r')\n",
    "en_loaded = pickle.load(filehandler)"
   ]
  },
  {
   "cell_type": "code",
   "execution_count": 10,
   "metadata": {},
   "outputs": [],
   "source": [
    "# MemoryStorage.store_vector(msote)\n",
    "# Create random query vector\n",
    "query = pic_one1_emb[0]\n",
    "\n",
    "# Get nearest neighbours\n",
    "N = en_loaded.neighbours(query)"
   ]
  },
  {
   "cell_type": "code",
   "execution_count": 11,
   "metadata": {},
   "outputs": [
    {
     "name": "stdout",
     "output_type": "stream",
     "text": [
      "('image_04820.jpg', 0.003666130012778268)\n",
      "('image_02931.jpg', 0.003685599429803954)\n",
      "('image_02173.jpg', 0.0036873551586233955)\n",
      "('image_06750.jpg', 0.0036912170328990968)\n",
      "('image_04725.jpg', 0.0037014562194930267)\n",
      "('image_01341.jpg', 0.0037111846904297474)\n",
      "('image_03577.jpg', 0.0037227087034161777)\n",
      "('image_01055.jpg', 0.003736275933950317)\n",
      "('image_02331.jpg', 0.003759390197568213)\n",
      "('image_06097.jpg', 0.003765032919978095)\n"
     ]
    }
   ],
   "source": [
    "for i in range(len(N)):\n",
    "    print(N[i][1],N[i][2])"
   ]
  },
  {
   "cell_type": "code",
   "execution_count": 11,
   "metadata": {},
   "outputs": [],
   "source": []
  },
  {
   "cell_type": "code",
   "execution_count": null,
   "metadata": {},
   "outputs": [],
   "source": []
  }
 ],
 "metadata": {
  "kernelspec": {
   "display_name": "Python [conda env:pytorch0.4]",
   "language": "python",
   "name": "conda-env-pytorch0.4-py"
  },
  "language_info": {
   "codemirror_mode": {
    "name": "ipython",
    "version": 2
   },
   "file_extension": ".py",
   "mimetype": "text/x-python",
   "name": "python",
   "nbconvert_exporter": "python",
   "pygments_lexer": "ipython2",
   "version": "2.7.15"
  }
 },
 "nbformat": 4,
 "nbformat_minor": 2
}
